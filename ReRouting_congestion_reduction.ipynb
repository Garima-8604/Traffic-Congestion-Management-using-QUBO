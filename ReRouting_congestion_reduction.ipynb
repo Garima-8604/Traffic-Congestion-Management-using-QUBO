{
  "nbformat": 4,
  "nbformat_minor": 0,
  "metadata": {
    "colab": {
      "provenance": []
    },
    "kernelspec": {
      "name": "python3",
      "display_name": "Python 3"
    },
    "language_info": {
      "name": "python"
    }
  },
  "cells": [
    {
      "cell_type": "markdown",
      "source": [
        "# Reducing Congestion and load balancing - Implementation Based on QUBO Formulation\n",
        "\n",
        "Cities often face traffic congestion during major urban events such as concerts, sports games, festivals, or political gatherings. These events lead to sudden increases in traffic volume, which traditional traffic management systems struggle to handle. Unmanaged congestion can result in longer travel times, increased carbon emissions, public dissatisfaction, and challenges for emergency vehicles trying to navigate crowded streets.\n",
        "\n",
        "\n",
        "Here, we explain the problem setup, formulation, and implementation of the present program for congestion reduction based on the QUBO formulation in the following order:\n",
        "\n",
        "- 1\\. [Problem setup](#1)\n",
        "- 2\\. [Formulation](#2)\n",
        "  - 2.1\\. [Concept](#2_1)\n",
        "  - 2.2\\. [Objective function](#2_2)\n",
        "- 3\\. [Implementation of rerouting to reduce congestion](#3)\n"
      ],
      "metadata": {
        "id": "KVF1Ifm1d8Y9"
      }
    },
    {
      "cell_type": "markdown",
      "source": [
        "<a id=\"1\"></a>.\n",
        "## 1\\. Problem setup\n",
        "\n",
        "The problem addressed in this program involves managing and reducing traffic congestion in an urban setting by optimizing the routes of multiple cars. Given a road network, each car has a set of alternative routes it can take. The goal is to minimize traffic congestion by finding an optimal route for each car such that road usage is balanced, reducing the number of shared roads between cars. The program leverages both classical and quantum computing techniques, particularly using a Quantum Unconstrained Binary Optimization (QUBO) formulation to model the problem of congestion reduction."
      ],
      "metadata": {
        "id": "ABYIZ2RMewXC"
      }
    },
    {
      "cell_type": "markdown",
      "source": [
        "<a id=\"2\"></a>\n",
        "\n",
        "## 2\\. Formulation\n",
        "\n",
        "<a id=\"2_1\"></a>\n",
        "\n",
        "### 2.1\\. Concept\n",
        "Traffic congestion occurs when multiple cars share the same road, leading to overcrowding, delays, and inefficiencies. The aim is to route cars in such a way that the overlap of their routes on shared roads is minimized, and an even distribution of traffic is achieved across the available routes.\n",
        "\n",
        "This is modeled as an optimization problem, where:\n",
        "\n",
        "* Nodes represent intersections in the road network.\n",
        "* Edges represent roads between intersections.\n",
        "* Car routes are sets of edges (roads) connecting start and end points in the road network.\n",
        "* Objective is to minimize the overlap (shared roads) between car routes.\n",
        "\n",
        "\n",
        "### 2.2\\. Objective Function\n",
        "### 1. [Problem setup](#1)\n",
        "\n",
        "The problem addressed in this program involves managing and reducing traffic congestion in an urban setting by optimizing the routes of multiple cars. Given a road network, each car has a set of alternative routes it can take. The goal is to minimize traffic congestion by finding an optimal route for each car such that road usage is balanced, reducing the number of shared roads between cars. The program leverages both classical and quantum computing techniques, particularly using a Quantum Unconstrained Binary Optimization (QUBO) formulation to model the problem of congestion reduction.\n",
        "\n",
        "### 2. [Formulation](#2)\n",
        "\n",
        "#### 2.1. [Concept](#2_1)\n",
        "\n",
        "Traffic congestion occurs when multiple cars share the same road, leading to overcrowding, delays, and inefficiencies. The aim is to route cars in such a way that the overlap of their routes on shared roads is minimized, and an even distribution of traffic is achieved across the available routes.\n",
        "\n",
        "This is modeled as an optimization problem, where:\n",
        "- **Nodes** represent intersections in the road network.\n",
        "- **Edges** represent roads between intersections.\n",
        "- **Car routes** are sets of edges (roads) connecting start and end points in the road network.\n",
        "- **Objective** is to minimize the overlap (shared roads) between car routes.\n",
        "\n",
        "#### 2.2. [Objective function](#2_2)\n",
        "\n",
        "The objective function aims to minimize the number of intersections (shared roads) among the cars. In the QUBO formulation:\n",
        "- Binary variables $q_{ij}$ represent whether a car $i$ chooses route $j$.\n",
        "- The cost function penalizes the use of shared roads between two cars by increasing the energy of the solution based on the number of intersections they share.\n",
        "\n",
        "The QUBO objective function is designed to minimize:\n",
        "- The total number of shared roads among different cars.\n",
        "- The number of alternative routes a single car selects simultaneously (penalty for choosing multiple routes).\n",
        "\n",
        "The QUBO matrix $Q$ is constructed with off-diagonal elements representing the penalty for two different cars using overlapping roads, and diagonal elements representing the penalty for selecting multiple routes for the same car.\n",
        "\n"
      ],
      "metadata": {
        "id": "Oz75coVLjiS-"
      }
    },
    {
      "cell_type": "markdown",
      "source": [
        "<a id=\"3\"></a>\n",
        "## 3\\. Implementation of re-routing to reduce congestion\n",
        "\n",
        "\n",
        "\n",
        "### Preparation\n",
        "\n",
        "First, we import the necessary Python libraries and set the API token to access the quantum computer"
      ],
      "metadata": {
        "id": "U_kDz1TkfoJz"
      }
    },
    {
      "cell_type": "code",
      "source": [
        "!pip install dwave-system"
      ],
      "metadata": {
        "colab": {
          "base_uri": "https://localhost:8080/"
        },
        "id": "HBWTvQD1d4AT",
        "outputId": "52e6152b-cb8a-4133-e974-2c97cb4dac0a"
      },
      "execution_count": 17,
      "outputs": [
        {
          "output_type": "stream",
          "name": "stdout",
          "text": [
            "Requirement already satisfied: dwave-system in /usr/local/lib/python3.10/dist-packages (1.27.0)\n",
            "Requirement already satisfied: dimod<0.14.0,>=0.12.7 in /usr/local/lib/python3.10/dist-packages (from dwave-system) (0.12.17)\n",
            "Requirement already satisfied: dwave-optimization<0.6,>=0.1.0 in /usr/local/lib/python3.10/dist-packages (from dwave-system) (0.4.0)\n",
            "Requirement already satisfied: dwave-cloud-client<0.14.0,>=0.12.0 in /usr/local/lib/python3.10/dist-packages (from dwave-system) (0.13.1)\n",
            "Requirement already satisfied: dwave-networkx>=0.8.10 in /usr/local/lib/python3.10/dist-packages (from dwave-system) (0.8.15)\n",
            "Requirement already satisfied: dwave-preprocessing>=0.5.0 in /usr/local/lib/python3.10/dist-packages (from dwave-system) (0.6.7)\n",
            "Requirement already satisfied: homebase<2.0.0,>=1.0.0 in /usr/local/lib/python3.10/dist-packages (from dwave-system) (1.0.1)\n",
            "Requirement already satisfied: minorminer<0.3.0,>=0.2.8 in /usr/local/lib/python3.10/dist-packages (from dwave-system) (0.2.16)\n",
            "Requirement already satisfied: numpy>=1.21.6 in /usr/local/lib/python3.10/dist-packages (from dwave-system) (1.26.4)\n",
            "Requirement already satisfied: dwave-samplers>=1.0.0 in /usr/local/lib/python3.10/dist-packages (from dwave-system) (1.4.0)\n",
            "Requirement already satisfied: scipy>=1.7.3 in /usr/local/lib/python3.10/dist-packages (from dwave-system) (1.13.1)\n",
            "Requirement already satisfied: requests<3,>=2.25 in /usr/local/lib/python3.10/dist-packages (from requests[socks]<3,>=2.25->dwave-cloud-client<0.14.0,>=0.12.0->dwave-system) (2.32.3)\n",
            "Requirement already satisfied: urllib3<3,>=1.26 in /usr/local/lib/python3.10/dist-packages (from dwave-cloud-client<0.14.0,>=0.12.0->dwave-system) (2.2.3)\n",
            "Requirement already satisfied: pydantic<3,>=2 in /usr/local/lib/python3.10/dist-packages (from dwave-cloud-client<0.14.0,>=0.12.0->dwave-system) (2.9.2)\n",
            "Requirement already satisfied: click<9,>=7.0 in /usr/local/lib/python3.10/dist-packages (from dwave-cloud-client<0.14.0,>=0.12.0->dwave-system) (8.1.7)\n",
            "Requirement already satisfied: python-dateutil<3,>=2.7 in /usr/local/lib/python3.10/dist-packages (from dwave-cloud-client<0.14.0,>=0.12.0->dwave-system) (2.8.2)\n",
            "Requirement already satisfied: plucky<0.5,>=0.4.3 in /usr/local/lib/python3.10/dist-packages (from dwave-cloud-client<0.14.0,>=0.12.0->dwave-system) (0.4.3)\n",
            "Requirement already satisfied: diskcache<6,>=5.2.1 in /usr/local/lib/python3.10/dist-packages (from dwave-cloud-client<0.14.0,>=0.12.0->dwave-system) (5.6.3)\n",
            "Requirement already satisfied: packaging>=19 in /usr/local/lib/python3.10/dist-packages (from dwave-cloud-client<0.14.0,>=0.12.0->dwave-system) (24.1)\n",
            "Requirement already satisfied: werkzeug<4,>=2.2 in /usr/local/lib/python3.10/dist-packages (from dwave-cloud-client<0.14.0,>=0.12.0->dwave-system) (3.0.4)\n",
            "Requirement already satisfied: typing-extensions<5,>=4.5.0 in /usr/local/lib/python3.10/dist-packages (from dwave-cloud-client<0.14.0,>=0.12.0->dwave-system) (4.12.2)\n",
            "Requirement already satisfied: authlib<2,>=1.2 in /usr/local/lib/python3.10/dist-packages (from dwave-cloud-client<0.14.0,>=0.12.0->dwave-system) (1.3.2)\n",
            "Requirement already satisfied: importlib-metadata>=5.0.0 in /usr/local/lib/python3.10/dist-packages (from dwave-cloud-client<0.14.0,>=0.12.0->dwave-system) (8.5.0)\n",
            "Requirement already satisfied: orjson>=3.10 in /usr/local/lib/python3.10/dist-packages (from dwave-cloud-client<0.14.0,>=0.12.0->dwave-system) (3.10.7)\n",
            "Requirement already satisfied: networkx>=2.4 in /usr/local/lib/python3.10/dist-packages (from dwave-networkx>=0.8.10->dwave-system) (3.4)\n",
            "Requirement already satisfied: fasteners>=0.15 in /usr/local/lib/python3.10/dist-packages (from minorminer<0.3.0,>=0.2.8->dwave-system) (0.19)\n",
            "Requirement already satisfied: cryptography in /usr/local/lib/python3.10/dist-packages (from authlib<2,>=1.2->dwave-cloud-client<0.14.0,>=0.12.0->dwave-system) (43.0.1)\n",
            "Requirement already satisfied: zipp>=3.20 in /usr/local/lib/python3.10/dist-packages (from importlib-metadata>=5.0.0->dwave-cloud-client<0.14.0,>=0.12.0->dwave-system) (3.20.2)\n",
            "Requirement already satisfied: annotated-types>=0.6.0 in /usr/local/lib/python3.10/dist-packages (from pydantic<3,>=2->dwave-cloud-client<0.14.0,>=0.12.0->dwave-system) (0.7.0)\n",
            "Requirement already satisfied: pydantic-core==2.23.4 in /usr/local/lib/python3.10/dist-packages (from pydantic<3,>=2->dwave-cloud-client<0.14.0,>=0.12.0->dwave-system) (2.23.4)\n",
            "Requirement already satisfied: six>=1.5 in /usr/local/lib/python3.10/dist-packages (from python-dateutil<3,>=2.7->dwave-cloud-client<0.14.0,>=0.12.0->dwave-system) (1.16.0)\n",
            "Requirement already satisfied: charset-normalizer<4,>=2 in /usr/local/lib/python3.10/dist-packages (from requests<3,>=2.25->requests[socks]<3,>=2.25->dwave-cloud-client<0.14.0,>=0.12.0->dwave-system) (3.4.0)\n",
            "Requirement already satisfied: idna<4,>=2.5 in /usr/local/lib/python3.10/dist-packages (from requests<3,>=2.25->requests[socks]<3,>=2.25->dwave-cloud-client<0.14.0,>=0.12.0->dwave-system) (3.10)\n",
            "Requirement already satisfied: certifi>=2017.4.17 in /usr/local/lib/python3.10/dist-packages (from requests<3,>=2.25->requests[socks]<3,>=2.25->dwave-cloud-client<0.14.0,>=0.12.0->dwave-system) (2024.8.30)\n",
            "Requirement already satisfied: PySocks!=1.5.7,>=1.5.6 in /usr/local/lib/python3.10/dist-packages (from requests[socks]<3,>=2.25->dwave-cloud-client<0.14.0,>=0.12.0->dwave-system) (1.7.1)\n",
            "Requirement already satisfied: MarkupSafe>=2.1.1 in /usr/local/lib/python3.10/dist-packages (from werkzeug<4,>=2.2->dwave-cloud-client<0.14.0,>=0.12.0->dwave-system) (3.0.1)\n",
            "Requirement already satisfied: cffi>=1.12 in /usr/local/lib/python3.10/dist-packages (from cryptography->authlib<2,>=1.2->dwave-cloud-client<0.14.0,>=0.12.0->dwave-system) (1.17.1)\n",
            "Requirement already satisfied: pycparser in /usr/local/lib/python3.10/dist-packages (from cffi>=1.12->cryptography->authlib<2,>=1.2->dwave-cloud-client<0.14.0,>=0.12.0->dwave-system) (2.22)\n"
          ]
        }
      ]
    },
    {
      "cell_type": "code",
      "source": [
        "!export DWAVE_TOKEN=DEV-6f2f442b73ea9653b5c1f0a0af8b4864c35eb9c9"
      ],
      "metadata": {
        "id": "Xnv7Z0o_gyh_"
      },
      "execution_count": 18,
      "outputs": []
    },
    {
      "cell_type": "markdown",
      "source": [
        "<a id=\"3.1\"></a>\n",
        "\n",
        "### 3.2. Writing Input File\n",
        "\n",
        "This input file is structured to provide the necessary data for simulating traffic flow on a road network with nodes (intersections) and edges (roads between intersections). It includes information about the number of nodes, how the nodes are connected, and the routes taken by cars. Additionally, it provides alternative routes for each car to assist with the optimization problem.\n",
        "\n",
        "#### 1. **Number of Nodes**\n",
        "The first line specifies the total number of nodes (intersections) in the road network.\n",
        "\n",
        "```plaintext\n",
        "15 #how many nodes (corners where streets collide) (N)\n",
        "```\n",
        "\n",
        "- `15`: Represents the total number of nodes, i.e., intersections in the network.\n",
        "\n",
        "#### 2. **Node Connections**\n",
        "The next `N` lines (in this case, 15) describe the connections between the nodes. Each line corresponds to a node (identified by its index) and lists the nodes to which it is directly connected (neighboring intersections).\n",
        "\n",
        "```plaintext\n",
        "1 5 #next N lines have the nodes each node is connected to\n",
        "0 2 6\n",
        "1 3 7\n",
        "2 4 8\n",
        "3 9\n",
        "0 6 10\n",
        "1 5 7 11\n",
        "2 6 8 12\n",
        "3 7 9 13\n",
        "4 8 14\n",
        "5 11\n",
        "6 10 12\n",
        "7 11 13\n",
        "8 12 14\n",
        "9 13\n",
        "```\n",
        "\n",
        "- For example:\n",
        "  - Node 0 is connected to nodes 1 and 5.\n",
        "  - Node 1 is connected to nodes 0, 2, and 6.\n",
        "\n",
        "Each node is identified by its index, starting from `0` to `14`, and is followed by the list of nodes to which it has a direct connection (road).\n",
        "\n",
        "#### 3. **Number of Cars**\n",
        "The next line specifies the total number of cars being considered in the simulation.\n",
        "\n",
        "```plaintext\n",
        "3 #how many cars (X)\n",
        "```\n",
        "\n",
        "- `3`: Indicates that there are three cars in the system.\n",
        "\n",
        "#### 4. **Original Routes**\n",
        "The next `X` lines (in this case, 3 lines) specify the original routes for each car. Each route is a sequence of node IDs representing the path a car takes through the network.\n",
        "\n",
        "```plaintext\n",
        "0-1-6-11-12-13-14 #next X lines have the original routes of cars (each number is the node ID)\n",
        "5-10-11-12\n",
        "2-7-12-13-14\n",
        "```\n",
        "\n",
        "- Car 0's route: Starts at node 0, moves through nodes 1, 6, 11, 12, 13, and ends at node 14.\n",
        "- Car 1's route: Starts at node 5, moves through nodes 10, 11, and 12.\n",
        "- Car 2's route: Starts at node 2, moves through nodes 7, 12, 13, and ends at node 14.\n",
        "\n",
        "#### 5. **Alternate Routes**\n",
        "The remaining lines describe alternative routes for the cars, allowing the algorithm to explore other possible paths to alleviate congestion. Each alternate route is associated with a car, specified by the car index and the sequence of node IDs for the alternate route.\n",
        "\n",
        "```plaintext\n",
        "#alternate routes\n",
        "0 0-1-2-3-4-9-14\n",
        "0 0-5-6-7-8-13-14\n",
        "1 5-6-7-12\n",
        "1 5-6-11-12\n",
        "2 2-3-4-9-14\n",
        "2 2-3-8-13-14\n",
        "```\n",
        "\n",
        "- For example:\n",
        "  - Car 0 has two alternate routes:\n",
        "    1. `0-1-2-3-4-9-14`\n",
        "    2. `0-5-6-7-8-13-14`\n",
        "  - Car 1 has two alternate routes:\n",
        "    1. `5-6-7-12`\n",
        "    2. `5-6-11-12`\n",
        "  - Car 2 has two alternate routes:\n",
        "    1. `2-3-4-9-14`\n",
        "    2. `2-3-8-13-14`\n",
        "\n",
        "Each alternate route provides possible detours to reduce traffic congestion. The car index is followed by the route (a sequence of nodes) the car can take instead of its original route.\n"
      ],
      "metadata": {
        "id": "jR1zHTTymNgQ"
      }
    },
    {
      "cell_type": "code",
      "source": [
        "%%writefile example.txt\n",
        "15 #how many nodes (corners where streets collide) (N)\n",
        "1 5 #next N lines have the nodes each node is connected to\n",
        "0 2 6\n",
        "1 3 7\n",
        "2 4 8\n",
        "3 9\n",
        "0 6 10\n",
        "1 5 7 11\n",
        "2 6 8 12\n",
        "3 7 9 13\n",
        "4 8 14\n",
        "5 11\n",
        "6 10 12\n",
        "7 11 13\n",
        "8 12 14\n",
        "9 13\n",
        "\n",
        "3 #how many cars (X)\n",
        "0-1-6-11-12-13-14 #next X lines have the original routes of cars (each number is the node ID)\n",
        "5-10-11-12\n",
        "2-7-12-13-14\n",
        "\n",
        "\n",
        "#alternate routes\n",
        "0 0-1-2-3-4-9-14\n",
        "0 0-5-6-7-8-13-14\n",
        "1 5-6-7-12\n",
        "1 5-6-11-12\n",
        "2 2-3-4-9-14\n",
        "2 2-3-8-13-14"
      ],
      "metadata": {
        "colab": {
          "base_uri": "https://localhost:8080/"
        },
        "id": "ok2ArE72gTMt",
        "outputId": "cbadb1fe-3945-494a-cd73-7557c5ada3bb"
      },
      "execution_count": 19,
      "outputs": [
        {
          "output_type": "stream",
          "name": "stdout",
          "text": [
            "Overwriting example.txt\n"
          ]
        }
      ]
    },
    {
      "cell_type": "markdown",
      "source": [
        "### Importing the necessary modules from dwave for quantum computing"
      ],
      "metadata": {
        "id": "p0xqobgpm-D7"
      }
    },
    {
      "cell_type": "code",
      "source": [
        "from dwave.system import DWaveSampler\n",
        "from dwave.system.composites import EmbeddingComposite"
      ],
      "metadata": {
        "id": "UYDRiCsanRRK"
      },
      "execution_count": 20,
      "outputs": []
    },
    {
      "cell_type": "markdown",
      "source": [
        "###Some Helper Functions"
      ],
      "metadata": {
        "id": "5eqfMx7PnYx_"
      }
    },
    {
      "cell_type": "code",
      "source": [
        "# Function to return unique elements in an array\n",
        "def getUniqueArr(arr):\n",
        "    ansArr = []  # Stores the unique elements\n",
        "    for i in range(0, len(arr)):\n",
        "        if(arr[i] not in ansArr):  # If the element is not in the ansArr, add it\n",
        "            ansArr.append(arr[i])\n",
        "    return ansArr  # Return the array with unique elements\n",
        "\n",
        "# Function to find intersections (shared roads) between two car routes\n",
        "def getIntersections(route1, route2):\n",
        "    intersections = []  # Stores common roads between the two routes\n",
        "    for i in range(0, len(route1)):\n",
        "        if (route1[i] in route2):  # Check if a road in route1 is present in route2\n",
        "            intersections.append(route1[i])\n",
        "    return intersections  # Return the intersections found"
      ],
      "metadata": {
        "id": "K2MhrPVCne-r"
      },
      "execution_count": 21,
      "outputs": []
    },
    {
      "cell_type": "markdown",
      "source": [
        "### Function to create a QUBO matrix based on car routes and the number of alternate routes"
      ],
      "metadata": {
        "id": "nKSTcqBsniXI"
      }
    },
    {
      "cell_type": "code",
      "source": [
        "def getQuboMatrix(carRoutes, numOfAlternateRoutes):\n",
        "    Q = {}  # Dictionary to hold the QUBO matrix (symmetric, square matrix)\n",
        "\n",
        "    # Initialize the QUBO matrix with zero values\n",
        "    for i in range(len(carRoutes)*numOfAlternateRoutes):\n",
        "        for j in range(len(carRoutes)*numOfAlternateRoutes):\n",
        "            Q.update({(i, j): 0})\n",
        "\n",
        "    carRouteIntersections = [0] * len(carRoutes)  # Stores the number of intersections for each car's routes\n",
        "    for i in range(len(carRoutes)):\n",
        "        for j in range(numOfAlternateRoutes):\n",
        "            carIntersections = []  # Collects intersections for the current route\n",
        "            for k in range(i + 1, len(carRoutes)):\n",
        "                for m in range(numOfAlternateRoutes):\n",
        "                    intersections = getIntersections(carRoutes[i][j], carRoutes[k][m])\n",
        "                    # Add intersection costs for different cars\n",
        "                    Q.update({(i*numOfAlternateRoutes + j, k*numOfAlternateRoutes + m): len(intersections) * 2})\n",
        "                    carIntersections.extend(intersections)\n",
        "            # Add the cost for choosing a route with multiple intersections\n",
        "            Q.update({(i*numOfAlternateRoutes+j, i*numOfAlternateRoutes+j): len(carIntersections)})\n",
        "            # Update the number of unique intersections for the car\n",
        "            carRouteIntersections[i] += len(getUniqueArr(carIntersections))\n",
        "\n",
        "    # Setting the penalty lambda to the maximum number of intersections\n",
        "    lam = max(carRouteIntersections)\n",
        "\n",
        "    # Iterate over all routes to update the diagonal and off-diagonal elements\n",
        "    for i in range(0, len(carRoutes)):\n",
        "        for j in range(0, numOfAlternateRoutes):\n",
        "            # Penalize choosing multiple alternate routes for the same car\n",
        "            for k in range(j+1, numOfAlternateRoutes):\n",
        "                Q.update({(i*numOfAlternateRoutes + j, i*numOfAlternateRoutes + k): lam * 2})\n",
        "            # Subtract lambda from the diagonal values to adjust penalties\n",
        "            Q.update({(i*numOfAlternateRoutes + j, i*numOfAlternateRoutes + j): (Q[(i*numOfAlternateRoutes + j, i*numOfAlternateRoutes + j)] - lam)})\n",
        "\n",
        "    return Q\n"
      ],
      "metadata": {
        "id": "DKdV1ugLo_Zn"
      },
      "execution_count": 22,
      "outputs": []
    },
    {
      "cell_type": "markdown",
      "source": [
        "### Class representing a Node in the traffic network (intersections)"
      ],
      "metadata": {
        "id": "kodQA8bwpNon"
      }
    },
    {
      "cell_type": "code",
      "source": [
        "class Node:\n",
        "    def __init__(self, nodeID):\n",
        "        self.__nodeID = nodeID\n",
        "        self.__edges = []\n",
        "\n",
        "    def getID(self):\n",
        "        return self.__nodeID  # Return the node ID\n",
        "\n",
        "    def getEdges(self):\n",
        "        return self.__edges  # Return the list of connected edges\n",
        "\n",
        "    # Check if the node has a specific edge\n",
        "    def hasEdge(self, edge):\n",
        "        for i in range(len(self.__edges)):\n",
        "            if(self.__edges[i].getID() == edge.getID()):\n",
        "                return True\n",
        "        return False\n",
        "\n",
        "    # Add an edge to the node if it doesn't already exist\n",
        "    def addEdge(self, edge):\n",
        "        if(self.hasEdge(edge)):\n",
        "            return False\n",
        "        self.__edges.append(edge)  # Append edge to this node\n",
        "        edge.addNode(self)  # Add this node to the edge\n",
        "        return True\n",
        "\n",
        "    # Check if this node is equal to another node (by ID)\n",
        "    def equals(self, node):\n",
        "        if(node.getID() == self.getID()):\n",
        "            return True\n",
        "        return False\n",
        "\n",
        "    # Get the edge connecting this node to another node\n",
        "    def getEdgeWithNode(self, node):\n",
        "        for i in range(len(self.__edges)):\n",
        "            if(self.__edges[i].getOtherNode(self).equals(node)):\n",
        "                return self.__edges[i]\n",
        "        return None"
      ],
      "metadata": {
        "id": "dQtvTJ9npY7u"
      },
      "execution_count": 23,
      "outputs": []
    },
    {
      "cell_type": "markdown",
      "source": [
        "\n",
        "### Class representing an Edge (road) in the network"
      ],
      "metadata": {
        "id": "7w_2JfyPpfVv"
      }
    },
    {
      "cell_type": "code",
      "source": [
        "class Edge:\n",
        "    def __init__(self, edgeID, nodeA=None, nodeB=None):\n",
        "        self.__edgeID = edgeID  # ID of the edge\n",
        "        self.__nodeA = nodeA  # One node connected by this edge\n",
        "        self.__nodeB = nodeB  # Another node connected by this edge\n",
        "        if nodeA is not None:\n",
        "            nodeA.addEdge(self)  # Add this edge to node A\n",
        "        if nodeB is not None:\n",
        "            nodeB.addEdge(self)  # Add this edge to node B\n",
        "\n",
        "    # Get the other node connected to this edge\n",
        "    def getOtherNode(self, node):\n",
        "        if self.__nodeA == node:\n",
        "            return self.__nodeB\n",
        "        if self.__nodeB == node:\n",
        "            return self.__nodeA\n",
        "        return None\n",
        "\n",
        "    # Get the ID of the edge\n",
        "    def getID(self):\n",
        "        return self.__edgeID\n",
        "\n",
        "    # Get the nodes connected by this edge\n",
        "    def getNodes(self):\n",
        "        return (self.__nodeA, self.__nodeB)\n",
        "\n",
        "    # Add a node to this edge if it's not already connected\n",
        "    def addNode(self, node):\n",
        "        if self.__nodeA is None:\n",
        "            self.__nodeA = node\n",
        "            node.addEdge(self)\n",
        "            return True\n",
        "        elif self.__nodeB is None and self.__nodeA.getID() != node.getID():\n",
        "            self.__nodeB = node\n",
        "            node.addEdge(self)\n",
        "            return True\n",
        "        return False\n",
        "\n",
        "    # Check if two edges are equal (based on edge ID)\n",
        "    def equals(self, edge):\n",
        "        return edge.getID() == self.getID()"
      ],
      "metadata": {
        "id": "tl8pcpCupy1m"
      },
      "execution_count": 24,
      "outputs": []
    },
    {
      "cell_type": "markdown",
      "source": [
        "### Class representing a Graph (traffic network) consisting of nodes and edges"
      ],
      "metadata": {
        "id": "rdzMaQ-9p02E"
      }
    },
    {
      "cell_type": "code",
      "source": [
        "class Graph:\n",
        "    def __init__(self):\n",
        "        self.__nodes = []  # List of nodes (intersections)\n",
        "        self.__edges = []  # List of edges (roads)\n",
        "\n",
        "    def addNode(self, node):\n",
        "        self.__nodes.append(node)  # Add a node to the graph\n",
        "\n",
        "    def addNodes(self, nodes):\n",
        "        self.__nodes.extend(nodes)  # Add multiple nodes to the graph\n",
        "\n",
        "    def addEdge(self, edge):\n",
        "        self.__edges.append(edge)  # Add an edge to the graph\n",
        "\n",
        "    def addEdges(self, edges):\n",
        "        self.__edges.extend(edges)  # Add multiple edges to the graph\n",
        "\n",
        "    def getNodes(self):\n",
        "        return self.__nodes  # Return the list of nodes\n",
        "\n",
        "    def getEdges(self):\n",
        "        return self.__edges  # Return the list of edges\n",
        "\n",
        "    def getNodeWithID(self, nodeID):\n",
        "        # Find a node in the graph by its ID\n",
        "        for i in range(len(self.__nodes)):\n",
        "            if self.__nodes[i].getID() == nodeID:\n",
        "                return self.__nodes[i]\n",
        "        return None\n",
        "\n",
        "    def getEdgeWithId(self, edgeID):\n",
        "        # Find an edge in the graph by its ID\n",
        "        for i in range(len(self.__edges)):\n",
        "            if self.__edges[i].getID() == edgeID:\n",
        "                return self.__edges[i]\n",
        "        return None"
      ],
      "metadata": {
        "id": "OZ4AXy-5qAeF"
      },
      "execution_count": 25,
      "outputs": []
    },
    {
      "cell_type": "markdown",
      "source": [
        "### Main function to set up the graph, routes, and perform quantum optimization"
      ],
      "metadata": {
        "id": "6tw5I1zWqAH_"
      }
    },
    {
      "cell_type": "code",
      "source": [
        "def main():\n",
        "    # Open the input file and read lines\n",
        "    file = open(\"example.txt\", \"r\")\n",
        "    lines = file.readlines()\n",
        "    file.close()\n",
        "\n",
        "    # Clean up lines by removing comments and empty lines\n",
        "    for i in range(len(lines) - 1, -1, -1):\n",
        "        temp = lines[i].split(\"\\n\")\n",
        "        lines[i] = temp[0]\n",
        "        temp = lines[i].split(\" #\")\n",
        "        lines[i] = temp[0]\n",
        "        temp = lines[i].split(\"#\")\n",
        "        lines[i] = temp[0]\n",
        "        if lines[i] == \"\":\n",
        "            lines.pop(i)\n",
        "\n",
        "    # Initialize the graph with nodes\n",
        "    numOfNodes = int(lines[0])\n",
        "    graph = Graph()\n",
        "    for i in range(numOfNodes):\n",
        "        node = Node(i)\n",
        "        graph.addNode(node)\n",
        "\n",
        "    nextLine = 1\n",
        "    numOfEdges = 0\n",
        "\n",
        "    # Add edges to the graph based on the input file\n",
        "    for i in range(numOfNodes):\n",
        "        nodeIDs = lines[nextLine + i].split(\" \")\n",
        "        for j in range(len(nodeIDs)):\n",
        "            nodeA = graph.getNodeWithID(i)\n",
        "            nodeB = graph.getNodeWithID(int(nodeIDs[j]))\n",
        "\n",
        "            edge_existing = nodeA.getEdgeWithNode(nodeB)\n",
        "            if edge_existing is not None:\n",
        "                continue\n",
        "            edge_existing = nodeB.getEdgeWithNode(nodeA)\n",
        "            if edge_existing is not None:\n",
        "                continue\n",
        "\n",
        "            # Create a new edge if not already existing and add it to the graph\n",
        "            edge = Edge(numOfEdges, nodeA, nodeB)\n",
        "            graph.addEdge(edge)\n",
        "            numOfEdges += 1\n",
        "\n",
        "    nextLine += numOfNodes\n",
        "    numOfCars = int(lines[nextLine])  # Get the number of cars\n",
        "    nextLine += 1\n",
        "\n",
        "    carRoutes = [[] for _ in range(numOfCars)]  # Initialize car routes for each car\n",
        "\n",
        "    # Parse car routes from the input file\n",
        "    for i in range(numOfCars):\n",
        "        nodeIDs = lines[nextLine + i].split(\"-\")\n",
        "        route = []\n",
        "        for j in range(len(nodeIDs) - 1):\n",
        "            nodeA = graph.getNodeWithID(int(nodeIDs[j]))\n",
        "            nodeB = graph.getNodeWithID(int(nodeIDs[j + 1]))\n",
        "            edge = nodeA.getEdgeWithNode(nodeB)\n",
        "            route.append(edge)\n",
        "        carRoutes[i].append(route)  # Add the parsed route to the car's route list\n",
        "    nextLine += numOfCars\n",
        "\n",
        "    numOfAlternateRoutes = 3  # Define the number of alternate routes for each car\n",
        "\n",
        "    # Parse alternate routes from the input file\n",
        "    for i in range(numOfCars * (numOfAlternateRoutes - 1)):\n",
        "        carNum = int(lines[nextLine + i].split(\" \")[0])  # Get the car number\n",
        "        nodeIDs = (lines[nextLine + i].split(\" \")[1]).split(\"-\")  # Get the route nodes\n",
        "        route = []\n",
        "        for j in range(len(nodeIDs) - 1):\n",
        "            nodeA = graph.getNodeWithID(int(nodeIDs[j]))\n",
        "            nodeB = graph.getNodeWithID(int(nodeIDs[j + 1]))\n",
        "            edge = nodeA.getEdgeWithNode(nodeB)\n",
        "            route.append(edge)\n",
        "        carRoutes[carNum].append(route)  # Add the alternate route to the car's route list\n",
        "\n",
        "    # Generate the QUBO matrix for the problem\n",
        "    Q = getQuboMatrix(carRoutes, numOfAlternateRoutes)\n",
        "\n",
        "    # Use D-Wave's quantum annealer to solve the QUBO problem\n",
        "    sampler = EmbeddingComposite(DWaveSampler(token='DEV-6f2f442b73ea9653b5c1f0a0af8b4864c35eb9c9'))\n",
        "    response = sampler.sample_qubo(Q, num_reads=100)\n",
        "\n",
        "    # Get the results and energy from the quantum solver\n",
        "    result = list(response.samples())[0]\n",
        "    resultingEnergy = list(response.data_vectors['energy'])[0]\n",
        "\n",
        "    # Output the results\n",
        "    print(\"roads taken:\")\n",
        "    for i in range(0, len(result)):\n",
        "        if result[i] == 1:  # If the route is selected, print it\n",
        "            print(f\"car {i//numOfAlternateRoutes + 1}: route {i%numOfAlternateRoutes + 1}\")\n",
        "\n",
        "    print(f\"Resulting energy: {resultingEnergy}\")  # Output the resulting energy of the solution\n",
        "\n",
        "\n",
        "# Entry point of the script\n",
        "if __name__ == \"__main__\":\n",
        "    main()\n"
      ],
      "metadata": {
        "colab": {
          "base_uri": "https://localhost:8080/"
        },
        "id": "J_X5RCBXf2sp",
        "outputId": "8b70c05f-53b6-46a7-df82-c26d4d0c63f1"
      },
      "execution_count": 26,
      "outputs": [
        {
          "output_type": "stream",
          "name": "stdout",
          "text": [
            "roads taken:\n",
            "car 1: route 2\n",
            "car 2: route 1\n",
            "car 3: route 1\n",
            "Resulting energy: -31.0\n"
          ]
        }
      ]
    },
    {
      "cell_type": "code",
      "source": [],
      "metadata": {
        "id": "POnUgF4ef3Ud"
      },
      "execution_count": null,
      "outputs": []
    }
  ]
}